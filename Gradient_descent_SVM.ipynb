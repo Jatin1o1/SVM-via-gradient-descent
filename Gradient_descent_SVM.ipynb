{
 "cells": [
  {
   "cell_type": "code",
   "execution_count": 192,
   "metadata": {},
   "outputs": [],
   "source": [
    "import numpy as np\n",
    "import pandas as pd\n",
    "import matplotlib.pyplot as plt "
   ]
  },
  {
   "cell_type": "code",
   "execution_count": 193,
   "metadata": {},
   "outputs": [],
   "source": [
    "features = np.loadtxt('features.txt', delimiter = ',')\n",
    "target = np.loadtxt('target.txt')"
   ]
  },
  {
   "cell_type": "code",
   "execution_count": 194,
   "metadata": {},
   "outputs": [],
   "source": [
    "#initialization\n",
    "b = 0\n",
    "eta = 0.0000003\n",
    "eps = 0.25\n",
    "c = 100\n",
    "w = np.zeros((1,len(features[0])))"
   ]
  },
  {
   "cell_type": "code",
   "execution_count": 195,
   "metadata": {},
   "outputs": [
    {
     "data": {
      "text/plain": [
       "(1, 122)"
      ]
     },
     "execution_count": 195,
     "metadata": {},
     "output_type": "execute_result"
    }
   ],
   "source": [
    "w.shape"
   ]
  },
  {
   "cell_type": "code",
   "execution_count": 196,
   "metadata": {},
   "outputs": [],
   "source": [
    "#cost function\n",
    "def costfunc(w,b,x,y):\n",
    "    val = 0\n",
    "    for i in range(len(x)):\n",
    "        val += max(0,1-y[i]*(np.dot(w,x[i])+ b))        \n",
    "    return 0.5*(np.sum(np.square(w))) + val*c\n"
   ]
  },
  {
   "cell_type": "code",
   "execution_count": 197,
   "metadata": {},
   "outputs": [],
   "source": [
    "#differentiation function wrt w\n",
    "def diffpar(w,b,x,y) :\n",
    "    val = 0\n",
    "    for i in range(len(x)):\n",
    "        if y[i]*(np.dot(w,x[i])+ b) >= 1:\n",
    "            val += 0\n",
    "        else :\n",
    "            val += -y[i]*x[i]\n",
    "    return w + c*val       \n",
    "    "
   ]
  },
  {
   "cell_type": "code",
   "execution_count": 198,
   "metadata": {},
   "outputs": [],
   "source": [
    "#differentiation function wrt b\n",
    "def diffb(w,b,x,y):\n",
    "    val = 0\n",
    "    for i in range(len(x)):\n",
    "        if y[i]*(np.dot(w,x[i])+ b) >= 1:\n",
    "            val += 0\n",
    "        else :\n",
    "            val += -y[i]\n",
    "    return c*val"
   ]
  },
  {
   "cell_type": "code",
   "execution_count": 229,
   "metadata": {},
   "outputs": [],
   "source": [
    "import timeit"
   ]
  },
  {
   "cell_type": "code",
   "execution_count": 230,
   "metadata": {},
   "outputs": [],
   "source": [
    "#batch gradient descent\n",
    "def batch():\n",
    "    k=0\n",
    "    b = 0\n",
    "    eta = 0.0000003\n",
    "    eps = 0.25\n",
    "    c = 100\n",
    "    costper = 100\n",
    "    w = np.zeros((1,len(features[0])))\n",
    "    cost = []\n",
    "    cost.append(costfunc(w,b,features,target))\n",
    "    while(costper > eps):\n",
    "        w = w - eta*diffpar(w,b,features,target)\n",
    "        b = b - eta*diffb(w,b,features,target)\n",
    "        cost.append(costfunc(w,b,features,target))\n",
    "        k = k+1\n",
    "        costper = abs(cost[-2] - cost[-1])/cost[-2]*100 \n",
    "    return (k,cost)"
   ]
  },
  {
   "cell_type": "code",
   "execution_count": 231,
   "metadata": {},
   "outputs": [],
   "source": [
    "start = timeit.default_timer()\n",
    "a, costlist = batch()\n",
    "end = timeit.default_timer()"
   ]
  },
  {
   "cell_type": "code",
   "execution_count": 233,
   "metadata": {},
   "outputs": [
    {
     "name": "stdout",
     "output_type": "stream",
     "text": [
      "total time taken for convergence for batch 6.338583500008099\n"
     ]
    }
   ],
   "source": [
    "print(\"Total time taken for convergence by batch gradient descent\",(end-start))"
   ]
  },
  {
   "cell_type": "code",
   "execution_count": 232,
   "metadata": {},
   "outputs": [
    {
     "name": "stdout",
     "output_type": "stream",
     "text": [
      "57\n"
     ]
    }
   ],
   "source": [
    "print (a)"
   ]
  },
  {
   "cell_type": "code",
   "execution_count": 234,
   "metadata": {
    "collapsed": true
   },
   "outputs": [
    {
     "data": {
      "text/plain": [
       "[array([641400.]),\n",
       " array([391940.8195894]),\n",
       " array([336267.95386309]),\n",
       " array([310466.1149245]),\n",
       " array([308231.90433961]),\n",
       " array([306318.46690812]),\n",
       " array([304634.73619717]),\n",
       " array([303098.87927584]),\n",
       " array([301685.24520145]),\n",
       " array([300350.36109216]),\n",
       " array([299087.28508811]),\n",
       " array([297907.03043888]),\n",
       " array([296772.15824589]),\n",
       " array([295679.03841642]),\n",
       " array([294629.59329846]),\n",
       " array([293612.96853599]),\n",
       " array([292622.96026695]),\n",
       " array([291653.7104878]),\n",
       " array([290707.74214163]),\n",
       " array([289775.16716451]),\n",
       " array([288853.38243489]),\n",
       " array([287943.54677599]),\n",
       " array([287042.42072473]),\n",
       " array([286150.56815562]),\n",
       " array([285266.42470023]),\n",
       " array([284388.78434759]),\n",
       " array([283519.79151537]),\n",
       " array([282657.72189224]),\n",
       " array([281801.02314925]),\n",
       " array([280948.84164779]),\n",
       " array([280099.7620794]),\n",
       " array([279253.0211808]),\n",
       " array([278408.6519706]),\n",
       " array([277569.97263998]),\n",
       " array([276733.77476133]),\n",
       " array([275899.62634381]),\n",
       " array([275068.31461294]),\n",
       " array([274239.01837606]),\n",
       " array([273410.87075193]),\n",
       " array([272584.7139473]),\n",
       " array([271761.53937465]),\n",
       " array([270940.32954188]),\n",
       " array([270120.64971962]),\n",
       " array([269302.52091978]),\n",
       " array([268485.26956883]),\n",
       " array([267668.84439664]),\n",
       " array([266851.74775672]),\n",
       " array([266037.5937705]),\n",
       " array([265225.4389819]),\n",
       " array([264417.43412083]),\n",
       " array([263618.58075991]),\n",
       " array([262830.74141752]),\n",
       " array([262053.06152669]),\n",
       " array([261301.720884]),\n",
       " array([260578.97424589]),\n",
       " array([259870.59359987]),\n",
       " array([259199.7311178]),\n",
       " array([258553.5820212])]"
      ]
     },
     "execution_count": 234,
     "metadata": {},
     "output_type": "execute_result"
    }
   ],
   "source": [
    "costlist"
   ]
  },
  {
   "cell_type": "code",
   "execution_count": 203,
   "metadata": {},
   "outputs": [],
   "source": [
    "xlist = []\n",
    "for i in range(1,59):\n",
    "    xlist.append(i)"
   ]
  },
  {
   "cell_type": "code",
   "execution_count": 227,
   "metadata": {},
   "outputs": [
    {
     "data": {
      "image/png": "[encoded data removed]",
      "text/plain": [
       "<Figure size 432x288 with 1 Axes>"
      ]
     },
     "metadata": {
      "needs_background": "light"
     },
     "output_type": "display_data"
    }
   ],
   "source": [
    "# print (xlist)\n",
    "plt.plot(xlist, costlist) \n",
    "# naming the x axis \n",
    "plt.xlabel('No of updates') \n",
    "# naming the y axis \n",
    "plt.ylabel('Cost function') \n",
    "# plt.xticks(np.arange(1,41,2))\n",
    "# plt.yticks(np.arange(45749,190179))\n",
    "# giving a title to my graph \n",
    "plt.title('Batch Gradient Descent : Cost vs no of updates') \n",
    "  \n",
    "# function to show the plot \n",
    "plt.show() "
   ]
  },
  {
   "cell_type": "code",
   "execution_count": 208,
   "metadata": {},
   "outputs": [],
   "source": [
    "from sklearn.utils import shuffle"
   ]
  },
  {
   "cell_type": "code",
   "execution_count": 209,
   "metadata": {},
   "outputs": [],
   "source": [
    "#mini batch gradient descent\n",
    "def minib():\n",
    "    q,r = shuffle(features,target)\n",
    "    k = 0\n",
    "    l = 0\n",
    "    c = 100\n",
    "    n = len(features)\n",
    "    w = np.zeros((1,len(features[0])))\n",
    "    b = 0\n",
    "    eta = 0.00001\n",
    "    eps = 0.01\n",
    "    batch_size = 20\n",
    "    cost = []\n",
    "    cost.append(costfunc(w,b,features,target))\n",
    "    newcost = 1\n",
    "    while(newcost > eps):\n",
    "        oldcost = newcost\n",
    "        x = q[l*batch_size: min(n, (l+1)*batch_size)]\n",
    "        y = r[l*batch_size: min(n, (l+1)*batch_size)]\n",
    "        w = w - eta*diffpar(w,b,x,y)\n",
    "        b = b - eta*diffb(w,b,x,y)\n",
    "        cost.append(costfunc(w,b,features,target))\n",
    "        k = k+1\n",
    "        l = int((l+1)%((n+batch_size - 1)/batch_size))\n",
    "        costper = abs(cost[-2] - cost[-1])/cost[-2]*100\n",
    "        newcost = (0.5*oldcost + 0.5*costper)\n",
    "    return (k, cost)"
   ]
  },
  {
   "cell_type": "code",
   "execution_count": 235,
   "metadata": {},
   "outputs": [],
   "source": [
    "start = timeit.default_timer()\n",
    "z,costlist2 = minib()\n",
    "end = timeit.default_timer()\n"
   ]
  },
  {
   "cell_type": "code",
   "execution_count": 236,
   "metadata": {},
   "outputs": [
    {
     "name": "stdout",
     "output_type": "stream",
     "text": [
      "Total time taken for convergence by mini batch 52.393720699998084\n"
     ]
    }
   ],
   "source": [
    "print(\"Total time taken for convergence by mini batch\",(end-start))"
   ]
  },
  {
   "cell_type": "code",
   "execution_count": 237,
   "metadata": {},
   "outputs": [
    {
     "data": {
      "text/plain": [
       "1106"
      ]
     },
     "execution_count": 237,
     "metadata": {},
     "output_type": "execute_result"
    }
   ],
   "source": [
    "z"
   ]
  },
  {
   "cell_type": "code",
   "execution_count": 238,
   "metadata": {},
   "outputs": [],
   "source": [
    "xlist2 = []\n",
    "for i in range(1,z+2):\n",
    "    xlist2.append(i)"
   ]
  },
  {
   "cell_type": "code",
   "execution_count": 240,
   "metadata": {},
   "outputs": [
    {
     "data": {
      "image/png": "[encoded data removed]",
      "text/plain": [
       "<Figure size 432x288 with 1 Axes>"
      ]
     },
     "metadata": {
      "needs_background": "light"
     },
     "output_type": "display_data"
    }
   ],
   "source": [
    "# print (xlist)\n",
    "plt.plot(xlist2, costlist2) \n",
    "# naming the x axis \n",
    "plt.xlabel('No of updates') \n",
    "# naming the y axis \n",
    "plt.ylabel('Cost') \n",
    "# plt.xticks(np.arange(1,41,2))\n",
    "# plt.yticks(np.arange(45749,190179))\n",
    "# giving a title to my graph \n",
    "plt.title('Mini Batch Gradient Descent : Cost vs No of updates') \n",
    "  \n",
    "# function to show the plot \n",
    "plt.show() "
   ]
  },
  {
   "cell_type": "code",
   "execution_count": 248,
   "metadata": {},
   "outputs": [],
   "source": [
    "#stochastic gradient descent\n",
    "def stoc():\n",
    "    q,r = shuffle(features,target)\n",
    "    k = 0\n",
    "    l = 0\n",
    "    n = len(features)\n",
    "    w = np.zeros((1,len(features[0])))\n",
    "    b = 0\n",
    "    c = 100\n",
    "    eta = 0.0001\n",
    "    eps = 0.001\n",
    "    batch_size = 20\n",
    "    cost = []\n",
    "    cost.append(costfunc(w,b,features,target))\n",
    "    newcost = 1\n",
    "    while(newcost > eps):\n",
    "        oldcost = newcost\n",
    "        x = q[l: min(n, (l+1))]\n",
    "        y = r[l: min(n, (l+1))]\n",
    "        w = w - eta*diffpar(w,b,x,y)\n",
    "        b = b - eta*diffb(w,b,x,y)\n",
    "        cost.append(costfunc(w,b,features,target))\n",
    "        k = k+1\n",
    "        l = int(l%n + 1)\n",
    "        costper = abs(cost[-2] - cost[-1])/cost[-2]*100\n",
    "        newcost = (0.5*oldcost + 0.5*costper)\n",
    "    return (k, cost)"
   ]
  },
  {
   "cell_type": "code",
   "execution_count": 249,
   "metadata": {},
   "outputs": [],
   "source": [
    "start = timeit.default_timer()\n",
    "lh, costlist3 = stoc()\n",
    "end = timeit.default_timer()"
   ]
  },
  {
   "cell_type": "code",
   "execution_count": 250,
   "metadata": {},
   "outputs": [
    {
     "name": "stdout",
     "output_type": "stream",
     "text": [
      "Total time taken for convergence by stochastic gradient descent 142.448995200044\n"
     ]
    }
   ],
   "source": [
    "print(\"Total time taken for convergence by stochastic gradient descent\",(end-start))"
   ]
  },
  {
   "cell_type": "code",
   "execution_count": 251,
   "metadata": {},
   "outputs": [
    {
     "data": {
      "text/plain": [
       "2751"
      ]
     },
     "execution_count": 251,
     "metadata": {},
     "output_type": "execute_result"
    }
   ],
   "source": [
    "lh"
   ]
  },
  {
   "cell_type": "code",
   "execution_count": 244,
   "metadata": {},
   "outputs": [],
   "source": [
    "xlist3 = []\n",
    "for i in range(1,lh+2):\n",
    "    xlist3.append(i)"
   ]
  },
  {
   "cell_type": "code",
   "execution_count": 247,
   "metadata": {},
   "outputs": [
    {
     "data": {
      "image/png": "[encoded data removed]",
      "text/plain": [
       "<Figure size 432x288 with 1 Axes>"
      ]
     },
     "metadata": {
      "needs_background": "light"
     },
     "output_type": "display_data"
    }
   ],
   "source": [
    "# print (xlist)\n",
    "plt.plot(xlist3, costlist3) \n",
    "# naming the x axis \n",
    "plt.xlabel('No of updates') \n",
    "# naming the y axis \n",
    "plt.ylabel('Cost') \n",
    "# plt.xticks(np.arange(1,41,2))\n",
    "# plt.yticks(np.arange(45749,190179))\n",
    "# giving a title to my graph \n",
    "plt.title('Stochastic Gradient Descent : Cost vs No of updates') \n",
    "  \n",
    "# function to show the plot \n",
    "plt.show() "
   ]
  },
  {
   "cell_type": "code",
   "execution_count": 224,
   "metadata": {},
   "outputs": [
    {
     "data": {
      "image/png": "[encoded data removed]",
      "text/plain": [
       "<Figure size 432x288 with 1 Axes>"
      ]
     },
     "metadata": {
      "needs_background": "light"
     },
     "output_type": "display_data"
    }
   ],
   "source": [
    "plt.plot(xlist, costlist, label = 'Batch Gradient Descent') \n",
    "plt.plot(xlist2, costlist2, label = 'Mini Batch Gradient Descent') \n",
    "plt.plot(xlist3, costlist3, label = 'Stochastic Gradient Descent') \n",
    "plt.legend(loc=\"upper right\")\n",
    "plt.show()"
   ]
  },
  {
   "cell_type": "code",
   "execution_count": null,
   "metadata": {},
   "outputs": [],
   "source": []
  }
 ],
 "metadata": {
  "kernelspec": {
   "display_name": "Python 3",
   "language": "python",
   "name": "python3"
  },
  "language_info": {
   "codemirror_mode": {
    "name": "ipython",
    "version": 3
   },
   "file_extension": ".py",
   "mimetype": "text/x-python",
   "name": "python",
   "nbconvert_exporter": "python",
   "pygments_lexer": "ipython3",
   "version": "3.7.3"
  }
 },
 "nbformat": 4,
 "nbformat_minor": 2
}
